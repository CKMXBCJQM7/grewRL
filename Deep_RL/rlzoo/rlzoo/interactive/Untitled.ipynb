{
 "cells": [
  {
   "cell_type": "code",
   "execution_count": 1,
   "metadata": {},
   "outputs": [],
   "source": [
    "from rlzoo.common.env_wrappers import *\n",
    "from rlzoo.common.utils import *\n",
    "from rlzoo.algorithms import *"
   ]
  },
  {
   "cell_type": "code",
   "execution_count": 2,
   "metadata": {},
   "outputs": [
    {
     "name": "stdout",
     "output_type": "stream",
     "text": [
      "Env ID HopperHop-v0 Exists!\n"
     ]
    }
   ],
   "source": [
    "EnvName = 'HopperHop-v0'\n",
    "EnvType = 'dm_control'\n",
    "AlgName = 'PPO'\n",
    "env = build_env(EnvName, EnvType)"
   ]
  },
  {
   "cell_type": "code",
   "execution_count": null,
   "metadata": {},
   "outputs": [],
   "source": [
    "alg_params, learn_params = call_default_params(env, EnvType, AlgName)\n",
    "alg_params['method'] = 'clip'\n",
    "alg = eval(AlgName+'(**alg_params)')\n",
    "alg.\n",
    "           "
   ]
  }
 ],
 "metadata": {
  "kernelspec": {
   "display_name": "Python 3",
   "language": "python",
   "name": "python3"
  },
  "language_info": {
   "codemirror_mode": {
    "name": "ipython",
    "version": 3
   },
   "file_extension": ".py",
   "mimetype": "text/x-python",
   "name": "python",
   "nbconvert_exporter": "python",
   "pygments_lexer": "ipython3",
   "version": "3.6.10"
  }
 },
 "nbformat": 4,
 "nbformat_minor": 4
}
